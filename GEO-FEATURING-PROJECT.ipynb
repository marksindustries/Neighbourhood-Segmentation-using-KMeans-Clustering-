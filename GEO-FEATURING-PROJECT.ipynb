{
 "cells": [
  {
   "cell_type": "markdown",
   "id": "d96eb7c6",
   "metadata": {},
   "source": [
    "# Predicting Price Without implementing Geo-Feature Method"
   ]
  },
  {
   "cell_type": "code",
   "execution_count": 22,
   "id": "081d6015",
   "metadata": {},
   "outputs": [],
   "source": [
    "import pandas as pd\n",
    "import numpy as np\n",
    "import matplotlib.pyplot as plt\n",
    "import seaborn as sns\n",
    "from geopy.geocoders import ArcGIS\n",
    "nom = ArcGIS()\n",
    "from sklearn.cluster import KMeans"
   ]
  },
  {
   "cell_type": "code",
   "execution_count": 119,
   "id": "c0e3f971",
   "metadata": {},
   "outputs": [
    {
     "name": "stdout",
     "output_type": "stream",
     "text": [
      "<class 'pandas.core.frame.DataFrame'>\n",
      "RangeIndex: 200 entries, 0 to 199\n",
      "Data columns (total 9 columns):\n",
      " #   Column        Non-Null Count  Dtype  \n",
      "---  ------        --------------  -----  \n",
      " 0   area_type     200 non-null    object \n",
      " 1   availability  200 non-null    object \n",
      " 2   location      200 non-null    object \n",
      " 3   size          200 non-null    object \n",
      " 4   society       123 non-null    object \n",
      " 5   total_sqft    200 non-null    object \n",
      " 6   bath          198 non-null    float64\n",
      " 7   balcony       187 non-null    float64\n",
      " 8   price         200 non-null    float64\n",
      "dtypes: float64(3), object(6)\n",
      "memory usage: 14.2+ KB\n"
     ]
    }
   ],
   "source": [
    "data = pd.read_csv(\"Desktop/Beng/Train.csv\")\n",
    "data = data[:200]\n",
    "\n",
    "data.info()"
   ]
  },
  {
   "cell_type": "markdown",
   "id": "4502d06f",
   "metadata": {},
   "source": [
    "## Taking Care of Missing Value - STEP 1"
   ]
  },
  {
   "cell_type": "markdown",
   "id": "a18f1fea",
   "metadata": {},
   "source": [
    "#### I have applied the strategy of filling the null values of numerical features with \"mean\" as this proved to be best approach other than filling null values with median, mode or simply 0. "
   ]
  },
  {
   "cell_type": "markdown",
   "id": "5958ef19",
   "metadata": {},
   "source": [
    "#### Feature - Society had to be dropped because missing values we more than 50% of instances."
   ]
  },
  {
   "cell_type": "code",
   "execution_count": 120,
   "id": "60e963f5",
   "metadata": {},
   "outputs": [
    {
     "data": {
      "text/html": [
       "<div>\n",
       "<style scoped>\n",
       "    .dataframe tbody tr th:only-of-type {\n",
       "        vertical-align: middle;\n",
       "    }\n",
       "\n",
       "    .dataframe tbody tr th {\n",
       "        vertical-align: top;\n",
       "    }\n",
       "\n",
       "    .dataframe thead th {\n",
       "        text-align: right;\n",
       "    }\n",
       "</style>\n",
       "<table border=\"1\" class=\"dataframe\">\n",
       "  <thead>\n",
       "    <tr style=\"text-align: right;\">\n",
       "      <th></th>\n",
       "      <th>area_type</th>\n",
       "      <th>availability</th>\n",
       "      <th>location</th>\n",
       "      <th>size</th>\n",
       "      <th>society</th>\n",
       "      <th>total_sqft</th>\n",
       "      <th>bath</th>\n",
       "      <th>balcony</th>\n",
       "      <th>price</th>\n",
       "    </tr>\n",
       "  </thead>\n",
       "  <tbody>\n",
       "    <tr>\n",
       "      <th>0</th>\n",
       "      <td>Super built-up  Area</td>\n",
       "      <td>19-Dec</td>\n",
       "      <td>Electronic City Phase II</td>\n",
       "      <td>2 BHK</td>\n",
       "      <td>Coomee</td>\n",
       "      <td>1056</td>\n",
       "      <td>2.0</td>\n",
       "      <td>1.0</td>\n",
       "      <td>39.07</td>\n",
       "    </tr>\n",
       "    <tr>\n",
       "      <th>1</th>\n",
       "      <td>Plot  Area</td>\n",
       "      <td>Ready To Move</td>\n",
       "      <td>Chikka Tirupathi</td>\n",
       "      <td>4 Bedroom</td>\n",
       "      <td>Theanmp</td>\n",
       "      <td>2600</td>\n",
       "      <td>5.0</td>\n",
       "      <td>3.0</td>\n",
       "      <td>120.00</td>\n",
       "    </tr>\n",
       "    <tr>\n",
       "      <th>2</th>\n",
       "      <td>Built-up  Area</td>\n",
       "      <td>Ready To Move</td>\n",
       "      <td>Uttarahalli</td>\n",
       "      <td>3 BHK</td>\n",
       "      <td>NaN</td>\n",
       "      <td>1440</td>\n",
       "      <td>2.0</td>\n",
       "      <td>3.0</td>\n",
       "      <td>62.00</td>\n",
       "    </tr>\n",
       "    <tr>\n",
       "      <th>3</th>\n",
       "      <td>Super built-up  Area</td>\n",
       "      <td>Ready To Move</td>\n",
       "      <td>Lingadheeranahalli</td>\n",
       "      <td>3 BHK</td>\n",
       "      <td>Soiewre</td>\n",
       "      <td>1521</td>\n",
       "      <td>3.0</td>\n",
       "      <td>1.0</td>\n",
       "      <td>95.00</td>\n",
       "    </tr>\n",
       "    <tr>\n",
       "      <th>4</th>\n",
       "      <td>Super built-up  Area</td>\n",
       "      <td>Ready To Move</td>\n",
       "      <td>Kothanur</td>\n",
       "      <td>2 BHK</td>\n",
       "      <td>NaN</td>\n",
       "      <td>1200</td>\n",
       "      <td>2.0</td>\n",
       "      <td>1.0</td>\n",
       "      <td>51.00</td>\n",
       "    </tr>\n",
       "  </tbody>\n",
       "</table>\n",
       "</div>"
      ],
      "text/plain": [
       "              area_type   availability                  location       size  \\\n",
       "0  Super built-up  Area         19-Dec  Electronic City Phase II      2 BHK   \n",
       "1            Plot  Area  Ready To Move          Chikka Tirupathi  4 Bedroom   \n",
       "2        Built-up  Area  Ready To Move               Uttarahalli      3 BHK   \n",
       "3  Super built-up  Area  Ready To Move        Lingadheeranahalli      3 BHK   \n",
       "4  Super built-up  Area  Ready To Move                  Kothanur      2 BHK   \n",
       "\n",
       "   society total_sqft  bath  balcony   price  \n",
       "0  Coomee        1056   2.0      1.0   39.07  \n",
       "1  Theanmp       2600   5.0      3.0  120.00  \n",
       "2      NaN       1440   2.0      3.0   62.00  \n",
       "3  Soiewre       1521   3.0      1.0   95.00  \n",
       "4      NaN       1200   2.0      1.0   51.00  "
      ]
     },
     "execution_count": 120,
     "metadata": {},
     "output_type": "execute_result"
    }
   ],
   "source": [
    "data.head()"
   ]
  },
  {
   "cell_type": "code",
   "execution_count": 121,
   "id": "669f7ec3",
   "metadata": {},
   "outputs": [],
   "source": [
    "bal_mean = data[\"balcony\"].mean()\n",
    "data[\"balcony\"].fillna(bal_mean,inplace=True)\n",
    "\n",
    "\n",
    "bat_mean = data[\"bath\"].mean()\n",
    "data[\"bath\"].fillna(bat_mean,inplace=True)\n",
    "\n",
    "\n",
    "data[\"size\"] = data[\"size\"].fillna(0)\n",
    "\n",
    "data.drop(\"society\",axis=1,inplace=True)"
   ]
  },
  {
   "cell_type": "code",
   "execution_count": 122,
   "id": "4c2a761f",
   "metadata": {},
   "outputs": [
    {
     "data": {
      "text/html": [
       "<div>\n",
       "<style scoped>\n",
       "    .dataframe tbody tr th:only-of-type {\n",
       "        vertical-align: middle;\n",
       "    }\n",
       "\n",
       "    .dataframe tbody tr th {\n",
       "        vertical-align: top;\n",
       "    }\n",
       "\n",
       "    .dataframe thead th {\n",
       "        text-align: right;\n",
       "    }\n",
       "</style>\n",
       "<table border=\"1\" class=\"dataframe\">\n",
       "  <thead>\n",
       "    <tr style=\"text-align: right;\">\n",
       "      <th></th>\n",
       "      <th>area_type</th>\n",
       "      <th>availability</th>\n",
       "      <th>location</th>\n",
       "      <th>size</th>\n",
       "      <th>total_sqft</th>\n",
       "      <th>bath</th>\n",
       "      <th>balcony</th>\n",
       "      <th>price</th>\n",
       "    </tr>\n",
       "  </thead>\n",
       "  <tbody>\n",
       "    <tr>\n",
       "      <th>0</th>\n",
       "      <td>Super built-up  Area</td>\n",
       "      <td>19-Dec</td>\n",
       "      <td>Electronic City Phase II</td>\n",
       "      <td>2 BHK</td>\n",
       "      <td>1056</td>\n",
       "      <td>2.0</td>\n",
       "      <td>1.0</td>\n",
       "      <td>39.07</td>\n",
       "    </tr>\n",
       "    <tr>\n",
       "      <th>1</th>\n",
       "      <td>Plot  Area</td>\n",
       "      <td>Ready To Move</td>\n",
       "      <td>Chikka Tirupathi</td>\n",
       "      <td>4 Bedroom</td>\n",
       "      <td>2600</td>\n",
       "      <td>5.0</td>\n",
       "      <td>3.0</td>\n",
       "      <td>120.00</td>\n",
       "    </tr>\n",
       "    <tr>\n",
       "      <th>2</th>\n",
       "      <td>Built-up  Area</td>\n",
       "      <td>Ready To Move</td>\n",
       "      <td>Uttarahalli</td>\n",
       "      <td>3 BHK</td>\n",
       "      <td>1440</td>\n",
       "      <td>2.0</td>\n",
       "      <td>3.0</td>\n",
       "      <td>62.00</td>\n",
       "    </tr>\n",
       "    <tr>\n",
       "      <th>3</th>\n",
       "      <td>Super built-up  Area</td>\n",
       "      <td>Ready To Move</td>\n",
       "      <td>Lingadheeranahalli</td>\n",
       "      <td>3 BHK</td>\n",
       "      <td>1521</td>\n",
       "      <td>3.0</td>\n",
       "      <td>1.0</td>\n",
       "      <td>95.00</td>\n",
       "    </tr>\n",
       "    <tr>\n",
       "      <th>4</th>\n",
       "      <td>Super built-up  Area</td>\n",
       "      <td>Ready To Move</td>\n",
       "      <td>Kothanur</td>\n",
       "      <td>2 BHK</td>\n",
       "      <td>1200</td>\n",
       "      <td>2.0</td>\n",
       "      <td>1.0</td>\n",
       "      <td>51.00</td>\n",
       "    </tr>\n",
       "  </tbody>\n",
       "</table>\n",
       "</div>"
      ],
      "text/plain": [
       "              area_type   availability                  location       size  \\\n",
       "0  Super built-up  Area         19-Dec  Electronic City Phase II      2 BHK   \n",
       "1            Plot  Area  Ready To Move          Chikka Tirupathi  4 Bedroom   \n",
       "2        Built-up  Area  Ready To Move               Uttarahalli      3 BHK   \n",
       "3  Super built-up  Area  Ready To Move        Lingadheeranahalli      3 BHK   \n",
       "4  Super built-up  Area  Ready To Move                  Kothanur      2 BHK   \n",
       "\n",
       "  total_sqft  bath  balcony   price  \n",
       "0       1056   2.0      1.0   39.07  \n",
       "1       2600   5.0      3.0  120.00  \n",
       "2       1440   2.0      3.0   62.00  \n",
       "3       1521   3.0      1.0   95.00  \n",
       "4       1200   2.0      1.0   51.00  "
      ]
     },
     "execution_count": 122,
     "metadata": {},
     "output_type": "execute_result"
    }
   ],
   "source": [
    "data.head()\n"
   ]
  },
  {
   "cell_type": "code",
   "execution_count": 123,
   "id": "87531462",
   "metadata": {},
   "outputs": [
    {
     "data": {
      "text/plain": [
       "area_type       0\n",
       "availability    0\n",
       "location        0\n",
       "size            0\n",
       "total_sqft      0\n",
       "bath            0\n",
       "balcony         0\n",
       "price           0\n",
       "dtype: int64"
      ]
     },
     "execution_count": 123,
     "metadata": {},
     "output_type": "execute_result"
    }
   ],
   "source": [
    "data.isnull().sum()"
   ]
  },
  {
   "cell_type": "markdown",
   "id": "cdd3f858",
   "metadata": {},
   "source": [
    "## Feature Engineering - STEP 2"
   ]
  },
  {
   "cell_type": "markdown",
   "id": "27f01edb",
   "metadata": {},
   "source": [
    "##### Converting availablity feature "
   ]
  },
  {
   "cell_type": "code",
   "execution_count": 124,
   "id": "0fcca811",
   "metadata": {},
   "outputs": [],
   "source": [
    "data[\"availability\"].replace(['Immediate Possession','Ready To Move'],[\"21-Dec\",\"21-Dec\"],inplace=True)\n",
    "def convert_availability(date):\n",
    "    date = date\n",
    "    date = date.replace(\"-\",\" \")\n",
    "    date = date.split()\n",
    "    s = \" \"\n",
    "    year = str(int(date[0]) + 2000)\n",
    "    month = str(date[1])\n",
    "    s = year+\" \"+month\n",
    "    return pd.to_datetime(s)\n",
    "\n",
    "data[\"availability\"] = data[\"availability\"].apply(convert_availability)\n",
    "data[\"availability\"] =  pd.to_numeric(data[\"availability\"])    "
   ]
  },
  {
   "cell_type": "markdown",
   "id": "703281ea",
   "metadata": {},
   "source": [
    "##### Converting area_type"
   ]
  },
  {
   "cell_type": "markdown",
   "id": "c35a8491",
   "metadata": {},
   "source": [
    "#### As this is a Categorical Data - Ordinal Type, we will give ranks based on area type. "
   ]
  },
  {
   "cell_type": "code",
   "execution_count": 125,
   "id": "14c07014",
   "metadata": {},
   "outputs": [],
   "source": [
    "def convert_area(area):\n",
    "    if area == 'Super built-up  Area':\n",
    "        return 3\n",
    "    elif area == 'Built-up  Area':\n",
    "        return 2\n",
    "    elif area == 'Plot  Area':\n",
    "        return 1\n",
    "\n",
    "data[\"area_type\"] = data[\"area_type\"].apply(convert_area)"
   ]
  },
  {
   "cell_type": "markdown",
   "id": "bd7fee46",
   "metadata": {},
   "source": [
    "##### Converting Size "
   ]
  },
  {
   "cell_type": "code",
   "execution_count": 126,
   "id": "438b61ac",
   "metadata": {},
   "outputs": [],
   "source": [
    "def convert_size(size):\n",
    "    size = str(size).split()\n",
    "    return int(size[0])\n",
    "data[\"size\"]=  data[\"size\"].apply(convert_size)"
   ]
  },
  {
   "cell_type": "markdown",
   "id": "88a5a9d1",
   "metadata": {},
   "source": [
    "#### Converting sqft feature"
   ]
  },
  {
   "cell_type": "code",
   "execution_count": 127,
   "id": "1fd2267b",
   "metadata": {},
   "outputs": [],
   "source": [
    "def convert_sqft(sqft):\n",
    "    sqft = sqft.split()\n",
    "    if len(sqft)>1:\n",
    "        return (int(sqft[0]) + int(sqft[2])) //2\n",
    "    else:\n",
    "        sqft = sqft[0]\n",
    "        return sqft\n",
    "    \n",
    "data[\"total_sqft\"] = data[\"total_sqft\"].apply(convert_sqft)"
   ]
  },
  {
   "cell_type": "markdown",
   "id": "4f7bc4b8",
   "metadata": {},
   "source": [
    "### Final Data after feature Engineering"
   ]
  },
  {
   "cell_type": "code",
   "execution_count": 128,
   "id": "280d5123",
   "metadata": {},
   "outputs": [
    {
     "data": {
      "text/html": [
       "<div>\n",
       "<style scoped>\n",
       "    .dataframe tbody tr th:only-of-type {\n",
       "        vertical-align: middle;\n",
       "    }\n",
       "\n",
       "    .dataframe tbody tr th {\n",
       "        vertical-align: top;\n",
       "    }\n",
       "\n",
       "    .dataframe thead th {\n",
       "        text-align: right;\n",
       "    }\n",
       "</style>\n",
       "<table border=\"1\" class=\"dataframe\">\n",
       "  <thead>\n",
       "    <tr style=\"text-align: right;\">\n",
       "      <th></th>\n",
       "      <th>area_type</th>\n",
       "      <th>availability</th>\n",
       "      <th>location</th>\n",
       "      <th>size</th>\n",
       "      <th>total_sqft</th>\n",
       "      <th>bath</th>\n",
       "      <th>balcony</th>\n",
       "      <th>price</th>\n",
       "    </tr>\n",
       "  </thead>\n",
       "  <tbody>\n",
       "    <tr>\n",
       "      <th>0</th>\n",
       "      <td>3</td>\n",
       "      <td>1575158400000000000</td>\n",
       "      <td>Electronic City Phase II</td>\n",
       "      <td>2</td>\n",
       "      <td>1056</td>\n",
       "      <td>2.0</td>\n",
       "      <td>1.0</td>\n",
       "      <td>39.07</td>\n",
       "    </tr>\n",
       "    <tr>\n",
       "      <th>1</th>\n",
       "      <td>1</td>\n",
       "      <td>1638316800000000000</td>\n",
       "      <td>Chikka Tirupathi</td>\n",
       "      <td>4</td>\n",
       "      <td>2600</td>\n",
       "      <td>5.0</td>\n",
       "      <td>3.0</td>\n",
       "      <td>120.00</td>\n",
       "    </tr>\n",
       "    <tr>\n",
       "      <th>2</th>\n",
       "      <td>2</td>\n",
       "      <td>1638316800000000000</td>\n",
       "      <td>Uttarahalli</td>\n",
       "      <td>3</td>\n",
       "      <td>1440</td>\n",
       "      <td>2.0</td>\n",
       "      <td>3.0</td>\n",
       "      <td>62.00</td>\n",
       "    </tr>\n",
       "    <tr>\n",
       "      <th>3</th>\n",
       "      <td>3</td>\n",
       "      <td>1638316800000000000</td>\n",
       "      <td>Lingadheeranahalli</td>\n",
       "      <td>3</td>\n",
       "      <td>1521</td>\n",
       "      <td>3.0</td>\n",
       "      <td>1.0</td>\n",
       "      <td>95.00</td>\n",
       "    </tr>\n",
       "    <tr>\n",
       "      <th>4</th>\n",
       "      <td>3</td>\n",
       "      <td>1638316800000000000</td>\n",
       "      <td>Kothanur</td>\n",
       "      <td>2</td>\n",
       "      <td>1200</td>\n",
       "      <td>2.0</td>\n",
       "      <td>1.0</td>\n",
       "      <td>51.00</td>\n",
       "    </tr>\n",
       "  </tbody>\n",
       "</table>\n",
       "</div>"
      ],
      "text/plain": [
       "   area_type         availability                  location  size total_sqft  \\\n",
       "0          3  1575158400000000000  Electronic City Phase II     2       1056   \n",
       "1          1  1638316800000000000          Chikka Tirupathi     4       2600   \n",
       "2          2  1638316800000000000               Uttarahalli     3       1440   \n",
       "3          3  1638316800000000000        Lingadheeranahalli     3       1521   \n",
       "4          3  1638316800000000000                  Kothanur     2       1200   \n",
       "\n",
       "   bath  balcony   price  \n",
       "0   2.0      1.0   39.07  \n",
       "1   5.0      3.0  120.00  \n",
       "2   2.0      3.0   62.00  \n",
       "3   3.0      1.0   95.00  \n",
       "4   2.0      1.0   51.00  "
      ]
     },
     "execution_count": 128,
     "metadata": {},
     "output_type": "execute_result"
    }
   ],
   "source": [
    "data.head()"
   ]
  },
  {
   "cell_type": "code",
   "execution_count": 129,
   "id": "6a334162",
   "metadata": {},
   "outputs": [
    {
     "name": "stderr",
     "output_type": "stream",
     "text": [
      "/var/folders/4n/twdpcmq10zn6ffq7fk64wsy40000gn/T/ipykernel_62164/2427473314.py:2: SettingWithCopyWarning: \n",
      "A value is trying to be set on a copy of a slice from a DataFrame\n",
      "\n",
      "See the caveats in the documentation: https://pandas.pydata.org/pandas-docs/stable/user_guide/indexing.html#returning-a-view-versus-a-copy\n",
      "  data[\"area_type\"].loc[index] = 0\n"
     ]
    }
   ],
   "source": [
    "index = data[(data[\"area_type\"] != 3) & (data[\"area_type\"] != 2) & (data[\"area_type\"] != 1)].index\n",
    "data[\"area_type\"].loc[index] = 0"
   ]
  },
  {
   "cell_type": "code",
   "execution_count": 130,
   "id": "14b1b58c",
   "metadata": {},
   "outputs": [
    {
     "data": {
      "text/plain": [
       "array([3, 1, 2])"
      ]
     },
     "execution_count": 130,
     "metadata": {},
     "output_type": "execute_result"
    }
   ],
   "source": [
    "data[\"area_type\"].unique()"
   ]
  },
  {
   "cell_type": "markdown",
   "id": "ea689b46",
   "metadata": {},
   "source": [
    "### Now there are two ways of dealing with the location feature :\n",
    "#### 1) Droping the column entirely - This won't prove efficient because in location feature in real life has huge impact on price.\n",
    "#### 2) Creating Dummy Variables for each instances - Let's give it a try"
   ]
  },
  {
   "cell_type": "code",
   "execution_count": 131,
   "id": "1c1c058c",
   "metadata": {},
   "outputs": [],
   "source": [
    "dummy_data = pd.get_dummies(data=data)"
   ]
  },
  {
   "cell_type": "code",
   "execution_count": 132,
   "id": "5cb08c59",
   "metadata": {},
   "outputs": [
    {
     "data": {
      "text/html": [
       "<div>\n",
       "<style scoped>\n",
       "    .dataframe tbody tr th:only-of-type {\n",
       "        vertical-align: middle;\n",
       "    }\n",
       "\n",
       "    .dataframe tbody tr th {\n",
       "        vertical-align: top;\n",
       "    }\n",
       "\n",
       "    .dataframe thead th {\n",
       "        text-align: right;\n",
       "    }\n",
       "</style>\n",
       "<table border=\"1\" class=\"dataframe\">\n",
       "  <thead>\n",
       "    <tr style=\"text-align: right;\">\n",
       "      <th></th>\n",
       "      <th>area_type</th>\n",
       "      <th>availability</th>\n",
       "      <th>size</th>\n",
       "      <th>bath</th>\n",
       "      <th>balcony</th>\n",
       "      <th>price</th>\n",
       "      <th>location_ Devarachikkanahalli</th>\n",
       "      <th>location_ Mysore Highway</th>\n",
       "      <th>location_ Thanisandra</th>\n",
       "      <th>location_7th Phase JP Nagar</th>\n",
       "      <th>...</th>\n",
       "      <th>total_sqft_845</th>\n",
       "      <th>total_sqft_869</th>\n",
       "      <th>total_sqft_880</th>\n",
       "      <th>total_sqft_890</th>\n",
       "      <th>total_sqft_945</th>\n",
       "      <th>total_sqft_950</th>\n",
       "      <th>total_sqft_957</th>\n",
       "      <th>total_sqft_966</th>\n",
       "      <th>total_sqft_970</th>\n",
       "      <th>total_sqft_980</th>\n",
       "    </tr>\n",
       "  </thead>\n",
       "  <tbody>\n",
       "    <tr>\n",
       "      <th>0</th>\n",
       "      <td>3</td>\n",
       "      <td>1575158400000000000</td>\n",
       "      <td>2</td>\n",
       "      <td>2.0</td>\n",
       "      <td>1.0</td>\n",
       "      <td>39.07</td>\n",
       "      <td>0</td>\n",
       "      <td>0</td>\n",
       "      <td>0</td>\n",
       "      <td>0</td>\n",
       "      <td>...</td>\n",
       "      <td>0</td>\n",
       "      <td>0</td>\n",
       "      <td>0</td>\n",
       "      <td>0</td>\n",
       "      <td>0</td>\n",
       "      <td>0</td>\n",
       "      <td>0</td>\n",
       "      <td>0</td>\n",
       "      <td>0</td>\n",
       "      <td>0</td>\n",
       "    </tr>\n",
       "    <tr>\n",
       "      <th>1</th>\n",
       "      <td>1</td>\n",
       "      <td>1638316800000000000</td>\n",
       "      <td>4</td>\n",
       "      <td>5.0</td>\n",
       "      <td>3.0</td>\n",
       "      <td>120.00</td>\n",
       "      <td>0</td>\n",
       "      <td>0</td>\n",
       "      <td>0</td>\n",
       "      <td>0</td>\n",
       "      <td>...</td>\n",
       "      <td>0</td>\n",
       "      <td>0</td>\n",
       "      <td>0</td>\n",
       "      <td>0</td>\n",
       "      <td>0</td>\n",
       "      <td>0</td>\n",
       "      <td>0</td>\n",
       "      <td>0</td>\n",
       "      <td>0</td>\n",
       "      <td>0</td>\n",
       "    </tr>\n",
       "    <tr>\n",
       "      <th>2</th>\n",
       "      <td>2</td>\n",
       "      <td>1638316800000000000</td>\n",
       "      <td>3</td>\n",
       "      <td>2.0</td>\n",
       "      <td>3.0</td>\n",
       "      <td>62.00</td>\n",
       "      <td>0</td>\n",
       "      <td>0</td>\n",
       "      <td>0</td>\n",
       "      <td>0</td>\n",
       "      <td>...</td>\n",
       "      <td>0</td>\n",
       "      <td>0</td>\n",
       "      <td>0</td>\n",
       "      <td>0</td>\n",
       "      <td>0</td>\n",
       "      <td>0</td>\n",
       "      <td>0</td>\n",
       "      <td>0</td>\n",
       "      <td>0</td>\n",
       "      <td>0</td>\n",
       "    </tr>\n",
       "    <tr>\n",
       "      <th>3</th>\n",
       "      <td>3</td>\n",
       "      <td>1638316800000000000</td>\n",
       "      <td>3</td>\n",
       "      <td>3.0</td>\n",
       "      <td>1.0</td>\n",
       "      <td>95.00</td>\n",
       "      <td>0</td>\n",
       "      <td>0</td>\n",
       "      <td>0</td>\n",
       "      <td>0</td>\n",
       "      <td>...</td>\n",
       "      <td>0</td>\n",
       "      <td>0</td>\n",
       "      <td>0</td>\n",
       "      <td>0</td>\n",
       "      <td>0</td>\n",
       "      <td>0</td>\n",
       "      <td>0</td>\n",
       "      <td>0</td>\n",
       "      <td>0</td>\n",
       "      <td>0</td>\n",
       "    </tr>\n",
       "    <tr>\n",
       "      <th>4</th>\n",
       "      <td>3</td>\n",
       "      <td>1638316800000000000</td>\n",
       "      <td>2</td>\n",
       "      <td>2.0</td>\n",
       "      <td>1.0</td>\n",
       "      <td>51.00</td>\n",
       "      <td>0</td>\n",
       "      <td>0</td>\n",
       "      <td>0</td>\n",
       "      <td>0</td>\n",
       "      <td>...</td>\n",
       "      <td>0</td>\n",
       "      <td>0</td>\n",
       "      <td>0</td>\n",
       "      <td>0</td>\n",
       "      <td>0</td>\n",
       "      <td>0</td>\n",
       "      <td>0</td>\n",
       "      <td>0</td>\n",
       "      <td>0</td>\n",
       "      <td>0</td>\n",
       "    </tr>\n",
       "  </tbody>\n",
       "</table>\n",
       "<p>5 rows × 288 columns</p>\n",
       "</div>"
      ],
      "text/plain": [
       "   area_type         availability  size  bath  balcony   price  \\\n",
       "0          3  1575158400000000000     2   2.0      1.0   39.07   \n",
       "1          1  1638316800000000000     4   5.0      3.0  120.00   \n",
       "2          2  1638316800000000000     3   2.0      3.0   62.00   \n",
       "3          3  1638316800000000000     3   3.0      1.0   95.00   \n",
       "4          3  1638316800000000000     2   2.0      1.0   51.00   \n",
       "\n",
       "   location_ Devarachikkanahalli  location_ Mysore Highway  \\\n",
       "0                              0                         0   \n",
       "1                              0                         0   \n",
       "2                              0                         0   \n",
       "3                              0                         0   \n",
       "4                              0                         0   \n",
       "\n",
       "   location_ Thanisandra  location_7th Phase JP Nagar  ...  total_sqft_845  \\\n",
       "0                      0                            0  ...               0   \n",
       "1                      0                            0  ...               0   \n",
       "2                      0                            0  ...               0   \n",
       "3                      0                            0  ...               0   \n",
       "4                      0                            0  ...               0   \n",
       "\n",
       "   total_sqft_869  total_sqft_880  total_sqft_890  total_sqft_945  \\\n",
       "0               0               0               0               0   \n",
       "1               0               0               0               0   \n",
       "2               0               0               0               0   \n",
       "3               0               0               0               0   \n",
       "4               0               0               0               0   \n",
       "\n",
       "   total_sqft_950  total_sqft_957  total_sqft_966  total_sqft_970  \\\n",
       "0               0               0               0               0   \n",
       "1               0               0               0               0   \n",
       "2               0               0               0               0   \n",
       "3               0               0               0               0   \n",
       "4               0               0               0               0   \n",
       "\n",
       "   total_sqft_980  \n",
       "0               0  \n",
       "1               0  \n",
       "2               0  \n",
       "3               0  \n",
       "4               0  \n",
       "\n",
       "[5 rows x 288 columns]"
      ]
     },
     "execution_count": 132,
     "metadata": {},
     "output_type": "execute_result"
    }
   ],
   "source": [
    "dummy_data.head(5)"
   ]
  },
  {
   "cell_type": "code",
   "execution_count": 133,
   "id": "078fabd3",
   "metadata": {},
   "outputs": [],
   "source": [
    "x = dummy_data.drop(\"price\",axis=1)\n",
    "y = dummy_data[\"price\"]"
   ]
  },
  {
   "cell_type": "markdown",
   "id": "a1b7deb8",
   "metadata": {},
   "source": [
    "### Applying Superivised learning Algorithm - Regression to train the model"
   ]
  },
  {
   "cell_type": "markdown",
   "id": "04b0f10e",
   "metadata": {},
   "source": [
    "#### Spliting dataset into train-test"
   ]
  },
  {
   "cell_type": "code",
   "execution_count": 134,
   "id": "8795989d",
   "metadata": {},
   "outputs": [],
   "source": [
    "from sklearn.model_selection import train_test_split\n",
    "x_train,x_test,y_train,y_test = train_test_split(x,y,test_size=42,random_state=42)"
   ]
  },
  {
   "cell_type": "markdown",
   "id": "0da12caa",
   "metadata": {},
   "source": [
    "#### Using StandardScaling to make all the values homogenous. (mean = 0  and std = 1)"
   ]
  },
  {
   "cell_type": "code",
   "execution_count": 135,
   "id": "058c7ff5",
   "metadata": {},
   "outputs": [],
   "source": [
    "from sklearn.preprocessing import StandardScaler\n",
    "\n",
    "sc = StandardScaler()\n",
    "x_train_scaled = sc.fit_transform(x_train)\n",
    "x_test_scaled = sc.transform(x_test)"
   ]
  },
  {
   "cell_type": "markdown",
   "id": "85ee02c2",
   "metadata": {},
   "source": [
    "#### Training model "
   ]
  },
  {
   "cell_type": "code",
   "execution_count": 136,
   "id": "3d9cae08",
   "metadata": {},
   "outputs": [
    {
     "data": {
      "text/plain": [
       "LinearRegression()"
      ]
     },
     "execution_count": 136,
     "metadata": {},
     "output_type": "execute_result"
    }
   ],
   "source": [
    "from sklearn.linear_model import LinearRegression\n",
    "model = LinearRegression()\n",
    "model.fit(x_train_scaled,y_train)"
   ]
  },
  {
   "cell_type": "code",
   "execution_count": 137,
   "id": "8c538555",
   "metadata": {},
   "outputs": [],
   "source": [
    "y_pred = model.predict(x_test_scaled)"
   ]
  },
  {
   "cell_type": "markdown",
   "id": "c9515686",
   "metadata": {},
   "source": [
    "#### evaluating the results (y_pred) with original (y_test)"
   ]
  },
  {
   "cell_type": "code",
   "execution_count": 138,
   "id": "5ad92efd",
   "metadata": {},
   "outputs": [
    {
     "name": "stdout",
     "output_type": "stream",
     "text": [
      "The Mean Absolute Error - 35152613638355.945\n",
      "The Mean Squared Error - 5.211481749764407e+27\n",
      "The Root Mean Squared Error - 72190593222139.45\n"
     ]
    }
   ],
   "source": [
    "y_pred = model.predict(x_test_scaled)\n",
    "from sklearn.metrics import mean_absolute_error,mean_squared_error\n",
    "mae_1 = mean_absolute_error(y_pred,y_test)\n",
    "mse_1 = mean_squared_error(y_pred,y_test)\n",
    "rmse_1 = np.sqrt(mse_1)\n",
    "print(f\"The Mean Absolute Error - {mae_1}\")\n",
    "print(f\"The Mean Squared Error - {mse_1}\")\n",
    "print(f\"The Root Mean Squared Error - {rmse_1}\")"
   ]
  },
  {
   "cell_type": "markdown",
   "id": "cdf62a84",
   "metadata": {},
   "source": [
    "### Visualising the results"
   ]
  },
  {
   "cell_type": "code",
   "execution_count": 139,
   "id": "9c1e7956",
   "metadata": {},
   "outputs": [
    {
     "data": {
      "text/plain": [
       "<matplotlib.legend.Legend at 0x7fe05090dac0>"
      ]
     },
     "execution_count": 139,
     "metadata": {},
     "output_type": "execute_result"
    },
    {
     "data": {
      "image/png": "[encoded data removed]",
      "text/plain": [
       "<Figure size 720x360 with 1 Axes>"
      ]
     },
     "metadata": {
      "needs_background": "light"
     },
     "output_type": "display_data"
    }
   ],
   "source": [
    "plt.figure(figsize=(10,5))\n",
    "plt.title(\"Results without using GEO-Feature Method\")\n",
    "plt.plot(range(len(y_pred[:100])),y_pred,label=\"Predicted\")\n",
    "plt.plot(range(len(y_test[:100])),y_test,label=\"Original\")\n",
    "plt.legend()"
   ]
  },
  {
   "cell_type": "markdown",
   "id": "ecfb0024",
   "metadata": {},
   "source": [
    "# Predicting Price With implementing Geo-Feature Method"
   ]
  },
  {
   "cell_type": "code",
   "execution_count": 140,
   "id": "28255c77",
   "metadata": {},
   "outputs": [],
   "source": [
    "from geopy.geocoders import Nominatim\n",
    "\n",
    "loc = Nominatim(user_agent=\"GetLoc\")\n",
    "\n",
    "\n",
    " "
   ]
  },
  {
   "cell_type": "code",
   "execution_count": 141,
   "id": "0b5d05e8",
   "metadata": {},
   "outputs": [],
   "source": [
    "class Feature_engineering:\n",
    "    def __init__(self,data,column):\n",
    "        self.data = data\n",
    "        self.column = column\n",
    "    \n",
    "    \n",
    "    \n",
    "    def get_k_value(self):\n",
    "        series = self.data[self.column]\n",
    "        coordinates_x = []\n",
    "        coordinates_y = []\n",
    "\n",
    "        for i in range(len(series)):\n",
    "            locations = nom.geocode(series[i])\n",
    "\n",
    "            if locations is None:\n",
    "                coordinates_x.append(0)\n",
    "                coordinates_y.append(0)\n",
    "            elif locations is not None:\n",
    "                coordinates_x.append(locations[1][0])\n",
    "                coordinates_y.append(locations[1][1])\n",
    "\n",
    "        d = {\"x\":coordinates_x,\"y\":coordinates_y}\n",
    "        x = pd.DataFrame(data=d)\n",
    "        from sklearn.preprocessing import StandardScaler\n",
    "        sc = StandardScaler()\n",
    "        new_data = sc.fit_transform(x)\n",
    "        self.new_data = new_data\n",
    "\n",
    "#         from sklearn.cluster import KMeans\n",
    "        ssd =[]\n",
    "        for i in range(2,10):\n",
    "            kmeans = KMeans(n_clusters=i)\n",
    "            kmeans.fit(new_data)\n",
    "            ssd.append(kmeans.inertia_)\n",
    "        plt.plot(range(2,10),ssd)\n",
    "        \n",
    "        \n",
    "    def fit_model(self,k_value):\n",
    "        model = KMeans(n_clusters = k_value)\n",
    "        y_pred = model.fit_predict(self.new_data)\n",
    "        data[self.column] = y_pred\n",
    "        return data\n",
    "   "
   ]
  },
  {
   "cell_type": "code",
   "execution_count": 142,
   "id": "fcf1ec02",
   "metadata": {},
   "outputs": [
    {
     "data": {
      "text/html": [
       "<div>\n",
       "<style scoped>\n",
       "    .dataframe tbody tr th:only-of-type {\n",
       "        vertical-align: middle;\n",
       "    }\n",
       "\n",
       "    .dataframe tbody tr th {\n",
       "        vertical-align: top;\n",
       "    }\n",
       "\n",
       "    .dataframe thead th {\n",
       "        text-align: right;\n",
       "    }\n",
       "</style>\n",
       "<table border=\"1\" class=\"dataframe\">\n",
       "  <thead>\n",
       "    <tr style=\"text-align: right;\">\n",
       "      <th></th>\n",
       "      <th>area_type</th>\n",
       "      <th>availability</th>\n",
       "      <th>location</th>\n",
       "      <th>size</th>\n",
       "      <th>total_sqft</th>\n",
       "      <th>bath</th>\n",
       "      <th>balcony</th>\n",
       "      <th>price</th>\n",
       "    </tr>\n",
       "  </thead>\n",
       "  <tbody>\n",
       "    <tr>\n",
       "      <th>0</th>\n",
       "      <td>3</td>\n",
       "      <td>1575158400000000000</td>\n",
       "      <td>Electronic City Phase II</td>\n",
       "      <td>2</td>\n",
       "      <td>1056</td>\n",
       "      <td>2.0</td>\n",
       "      <td>1.0</td>\n",
       "      <td>39.07</td>\n",
       "    </tr>\n",
       "    <tr>\n",
       "      <th>1</th>\n",
       "      <td>1</td>\n",
       "      <td>1638316800000000000</td>\n",
       "      <td>Chikka Tirupathi</td>\n",
       "      <td>4</td>\n",
       "      <td>2600</td>\n",
       "      <td>5.0</td>\n",
       "      <td>3.0</td>\n",
       "      <td>120.00</td>\n",
       "    </tr>\n",
       "    <tr>\n",
       "      <th>2</th>\n",
       "      <td>2</td>\n",
       "      <td>1638316800000000000</td>\n",
       "      <td>Uttarahalli</td>\n",
       "      <td>3</td>\n",
       "      <td>1440</td>\n",
       "      <td>2.0</td>\n",
       "      <td>3.0</td>\n",
       "      <td>62.00</td>\n",
       "    </tr>\n",
       "    <tr>\n",
       "      <th>3</th>\n",
       "      <td>3</td>\n",
       "      <td>1638316800000000000</td>\n",
       "      <td>Lingadheeranahalli</td>\n",
       "      <td>3</td>\n",
       "      <td>1521</td>\n",
       "      <td>3.0</td>\n",
       "      <td>1.0</td>\n",
       "      <td>95.00</td>\n",
       "    </tr>\n",
       "    <tr>\n",
       "      <th>4</th>\n",
       "      <td>3</td>\n",
       "      <td>1638316800000000000</td>\n",
       "      <td>Kothanur</td>\n",
       "      <td>2</td>\n",
       "      <td>1200</td>\n",
       "      <td>2.0</td>\n",
       "      <td>1.0</td>\n",
       "      <td>51.00</td>\n",
       "    </tr>\n",
       "  </tbody>\n",
       "</table>\n",
       "</div>"
      ],
      "text/plain": [
       "   area_type         availability                  location  size total_sqft  \\\n",
       "0          3  1575158400000000000  Electronic City Phase II     2       1056   \n",
       "1          1  1638316800000000000          Chikka Tirupathi     4       2600   \n",
       "2          2  1638316800000000000               Uttarahalli     3       1440   \n",
       "3          3  1638316800000000000        Lingadheeranahalli     3       1521   \n",
       "4          3  1638316800000000000                  Kothanur     2       1200   \n",
       "\n",
       "   bath  balcony   price  \n",
       "0   2.0      1.0   39.07  \n",
       "1   5.0      3.0  120.00  \n",
       "2   2.0      3.0   62.00  \n",
       "3   3.0      1.0   95.00  \n",
       "4   2.0      1.0   51.00  "
      ]
     },
     "execution_count": 142,
     "metadata": {},
     "output_type": "execute_result"
    }
   ],
   "source": [
    "data.head()"
   ]
  },
  {
   "cell_type": "code",
   "execution_count": 143,
   "id": "381602dc",
   "metadata": {},
   "outputs": [],
   "source": [
    "geo_featuring = Feature_engineering(data,\"location\")"
   ]
  },
  {
   "cell_type": "code",
   "execution_count": 144,
   "id": "1088f66c",
   "metadata": {},
   "outputs": [
    {
     "data": {
      "image/png": "[encoded data removed]",
      "text/plain": [
       "<Figure size 432x288 with 1 Axes>"
      ]
     },
     "metadata": {
      "needs_background": "light"
     },
     "output_type": "display_data"
    }
   ],
   "source": [
    "geo_featuring.get_k_value()"
   ]
  },
  {
   "cell_type": "code",
   "execution_count": 145,
   "id": "be603938",
   "metadata": {},
   "outputs": [
    {
     "data": {
      "text/html": [
       "<div>\n",
       "<style scoped>\n",
       "    .dataframe tbody tr th:only-of-type {\n",
       "        vertical-align: middle;\n",
       "    }\n",
       "\n",
       "    .dataframe tbody tr th {\n",
       "        vertical-align: top;\n",
       "    }\n",
       "\n",
       "    .dataframe thead th {\n",
       "        text-align: right;\n",
       "    }\n",
       "</style>\n",
       "<table border=\"1\" class=\"dataframe\">\n",
       "  <thead>\n",
       "    <tr style=\"text-align: right;\">\n",
       "      <th></th>\n",
       "      <th>area_type</th>\n",
       "      <th>availability</th>\n",
       "      <th>location</th>\n",
       "      <th>size</th>\n",
       "      <th>total_sqft</th>\n",
       "      <th>bath</th>\n",
       "      <th>balcony</th>\n",
       "      <th>price</th>\n",
       "    </tr>\n",
       "  </thead>\n",
       "  <tbody>\n",
       "    <tr>\n",
       "      <th>0</th>\n",
       "      <td>3</td>\n",
       "      <td>1575158400000000000</td>\n",
       "      <td>0</td>\n",
       "      <td>2</td>\n",
       "      <td>1056</td>\n",
       "      <td>2.0</td>\n",
       "      <td>1.0</td>\n",
       "      <td>39.07</td>\n",
       "    </tr>\n",
       "    <tr>\n",
       "      <th>1</th>\n",
       "      <td>1</td>\n",
       "      <td>1638316800000000000</td>\n",
       "      <td>0</td>\n",
       "      <td>4</td>\n",
       "      <td>2600</td>\n",
       "      <td>5.0</td>\n",
       "      <td>3.0</td>\n",
       "      <td>120.00</td>\n",
       "    </tr>\n",
       "    <tr>\n",
       "      <th>2</th>\n",
       "      <td>2</td>\n",
       "      <td>1638316800000000000</td>\n",
       "      <td>0</td>\n",
       "      <td>3</td>\n",
       "      <td>1440</td>\n",
       "      <td>2.0</td>\n",
       "      <td>3.0</td>\n",
       "      <td>62.00</td>\n",
       "    </tr>\n",
       "    <tr>\n",
       "      <th>3</th>\n",
       "      <td>3</td>\n",
       "      <td>1638316800000000000</td>\n",
       "      <td>0</td>\n",
       "      <td>3</td>\n",
       "      <td>1521</td>\n",
       "      <td>3.0</td>\n",
       "      <td>1.0</td>\n",
       "      <td>95.00</td>\n",
       "    </tr>\n",
       "    <tr>\n",
       "      <th>4</th>\n",
       "      <td>3</td>\n",
       "      <td>1638316800000000000</td>\n",
       "      <td>0</td>\n",
       "      <td>2</td>\n",
       "      <td>1200</td>\n",
       "      <td>2.0</td>\n",
       "      <td>1.0</td>\n",
       "      <td>51.00</td>\n",
       "    </tr>\n",
       "    <tr>\n",
       "      <th>...</th>\n",
       "      <td>...</td>\n",
       "      <td>...</td>\n",
       "      <td>...</td>\n",
       "      <td>...</td>\n",
       "      <td>...</td>\n",
       "      <td>...</td>\n",
       "      <td>...</td>\n",
       "      <td>...</td>\n",
       "    </tr>\n",
       "    <tr>\n",
       "      <th>195</th>\n",
       "      <td>3</td>\n",
       "      <td>1638316800000000000</td>\n",
       "      <td>0</td>\n",
       "      <td>2</td>\n",
       "      <td>1327</td>\n",
       "      <td>2.0</td>\n",
       "      <td>2.0</td>\n",
       "      <td>98.00</td>\n",
       "    </tr>\n",
       "    <tr>\n",
       "      <th>196</th>\n",
       "      <td>3</td>\n",
       "      <td>1638316800000000000</td>\n",
       "      <td>0</td>\n",
       "      <td>2</td>\n",
       "      <td>1186</td>\n",
       "      <td>2.0</td>\n",
       "      <td>2.0</td>\n",
       "      <td>58.00</td>\n",
       "    </tr>\n",
       "    <tr>\n",
       "      <th>197</th>\n",
       "      <td>2</td>\n",
       "      <td>1638316800000000000</td>\n",
       "      <td>0</td>\n",
       "      <td>3</td>\n",
       "      <td>1783</td>\n",
       "      <td>3.0</td>\n",
       "      <td>1.0</td>\n",
       "      <td>115.00</td>\n",
       "    </tr>\n",
       "    <tr>\n",
       "      <th>198</th>\n",
       "      <td>3</td>\n",
       "      <td>1638316800000000000</td>\n",
       "      <td>0</td>\n",
       "      <td>3</td>\n",
       "      <td>1400</td>\n",
       "      <td>3.0</td>\n",
       "      <td>2.0</td>\n",
       "      <td>56.00</td>\n",
       "    </tr>\n",
       "    <tr>\n",
       "      <th>199</th>\n",
       "      <td>3</td>\n",
       "      <td>1638316800000000000</td>\n",
       "      <td>0</td>\n",
       "      <td>2</td>\n",
       "      <td>980</td>\n",
       "      <td>2.0</td>\n",
       "      <td>1.0</td>\n",
       "      <td>48.00</td>\n",
       "    </tr>\n",
       "  </tbody>\n",
       "</table>\n",
       "<p>200 rows × 8 columns</p>\n",
       "</div>"
      ],
      "text/plain": [
       "     area_type         availability  location  size total_sqft  bath  balcony  \\\n",
       "0            3  1575158400000000000         0     2       1056   2.0      1.0   \n",
       "1            1  1638316800000000000         0     4       2600   5.0      3.0   \n",
       "2            2  1638316800000000000         0     3       1440   2.0      3.0   \n",
       "3            3  1638316800000000000         0     3       1521   3.0      1.0   \n",
       "4            3  1638316800000000000         0     2       1200   2.0      1.0   \n",
       "..         ...                  ...       ...   ...        ...   ...      ...   \n",
       "195          3  1638316800000000000         0     2       1327   2.0      2.0   \n",
       "196          3  1638316800000000000         0     2       1186   2.0      2.0   \n",
       "197          2  1638316800000000000         0     3       1783   3.0      1.0   \n",
       "198          3  1638316800000000000         0     3       1400   3.0      2.0   \n",
       "199          3  1638316800000000000         0     2        980   2.0      1.0   \n",
       "\n",
       "      price  \n",
       "0     39.07  \n",
       "1    120.00  \n",
       "2     62.00  \n",
       "3     95.00  \n",
       "4     51.00  \n",
       "..      ...  \n",
       "195   98.00  \n",
       "196   58.00  \n",
       "197  115.00  \n",
       "198   56.00  \n",
       "199   48.00  \n",
       "\n",
       "[200 rows x 8 columns]"
      ]
     },
     "execution_count": 145,
     "metadata": {},
     "output_type": "execute_result"
    }
   ],
   "source": [
    "geo_featuring.fit_model(4)"
   ]
  },
  {
   "cell_type": "code",
   "execution_count": 146,
   "id": "a60ffdda",
   "metadata": {},
   "outputs": [],
   "source": [
    "geo_feature_data = geo_featuring.fit_model(4)"
   ]
  },
  {
   "cell_type": "code",
   "execution_count": 147,
   "id": "ce7d7cc5",
   "metadata": {},
   "outputs": [],
   "source": [
    "x = geo_feature_data.drop(\"price\",axis=1)\n",
    "y = geo_feature_data[\"price\"]"
   ]
  },
  {
   "cell_type": "code",
   "execution_count": 148,
   "id": "df14ab45",
   "metadata": {},
   "outputs": [],
   "source": [
    "from sklearn.model_selection import train_test_split\n",
    "x_train,x_test,y_train,y_test = train_test_split(x,y,test_size=42,random_state=42)"
   ]
  },
  {
   "cell_type": "code",
   "execution_count": 149,
   "id": "b99ace10",
   "metadata": {},
   "outputs": [],
   "source": [
    "from sklearn.preprocessing import StandardScaler\n",
    "\n",
    "sc = StandardScaler()\n",
    "x_train_scaled = sc.fit_transform(x_train)\n",
    "x_test_scaled = sc.transform(x_test)"
   ]
  },
  {
   "cell_type": "code",
   "execution_count": 150,
   "id": "ee5f2dfb",
   "metadata": {},
   "outputs": [
    {
     "data": {
      "text/plain": [
       "LinearRegression()"
      ]
     },
     "execution_count": 150,
     "metadata": {},
     "output_type": "execute_result"
    }
   ],
   "source": [
    "from sklearn.linear_model import LinearRegression\n",
    "model = LinearRegression()\n",
    "model.fit(x_train_scaled,y_train)"
   ]
  },
  {
   "cell_type": "code",
   "execution_count": 151,
   "id": "19936e03",
   "metadata": {},
   "outputs": [
    {
     "name": "stdout",
     "output_type": "stream",
     "text": [
      "The Mean Absolute Error - 39.51510855580899\n",
      "The Mean Squared Error - 4391.036894959502\n",
      "The Root Mean Squared Error - 66.26489941861756\n"
     ]
    }
   ],
   "source": [
    "y_pred = model.predict(x_test_scaled)\n",
    "from sklearn.metrics import mean_absolute_error,mean_squared_error\n",
    "mae_2 = mean_absolute_error(y_pred,y_test)\n",
    "mse_2 = mean_squared_error(y_pred,y_test)\n",
    "rmse_2 = np.sqrt(mse_2)\n",
    "print(f\"The Mean Absolute Error - {mae_2}\")\n",
    "print(f\"The Mean Squared Error - {mse_2}\")\n",
    "print(f\"The Root Mean Squared Error - {rmse_2}\")"
   ]
  },
  {
   "cell_type": "code",
   "execution_count": 152,
   "id": "62cc7924",
   "metadata": {},
   "outputs": [
    {
     "data": {
      "text/plain": [
       "<matplotlib.legend.Legend at 0x7fe0311aec70>"
      ]
     },
     "execution_count": 152,
     "metadata": {},
     "output_type": "execute_result"
    },
    {
     "data": {
      "image/png": "[encoded data removed]",
      "text/plain": [
       "<Figure size 720x360 with 1 Axes>"
      ]
     },
     "metadata": {
      "needs_background": "light"
     },
     "output_type": "display_data"
    }
   ],
   "source": [
    "plt.figure(figsize=(10,5))\n",
    "plt.title(\"Results without using GEO-Feature Method\")\n",
    "plt.plot(range(len(y_pred[:100])),y_pred,label=\"Predicted\")\n",
    "plt.plot(range(len(y_test[:100])),y_test,label=\"Original\")\n",
    "plt.legend()"
   ]
  },
  {
   "cell_type": "markdown",
   "id": "79b0af09",
   "metadata": {},
   "source": [
    "### Final Results Comparison"
   ]
  },
  {
   "cell_type": "code",
   "execution_count": 153,
   "id": "e7b18154",
   "metadata": {},
   "outputs": [
    {
     "data": {
      "text/html": [
       "<div>\n",
       "<style scoped>\n",
       "    .dataframe tbody tr th:only-of-type {\n",
       "        vertical-align: middle;\n",
       "    }\n",
       "\n",
       "    .dataframe tbody tr th {\n",
       "        vertical-align: top;\n",
       "    }\n",
       "\n",
       "    .dataframe thead th {\n",
       "        text-align: right;\n",
       "    }\n",
       "</style>\n",
       "<table border=\"1\" class=\"dataframe\">\n",
       "  <thead>\n",
       "    <tr style=\"text-align: right;\">\n",
       "      <th></th>\n",
       "      <th>Normal-Method</th>\n",
       "      <th>GEO-Featuring</th>\n",
       "    </tr>\n",
       "  </thead>\n",
       "  <tbody>\n",
       "    <tr>\n",
       "      <th>MSE</th>\n",
       "      <td>5.211482e+27</td>\n",
       "      <td>4391.036895</td>\n",
       "    </tr>\n",
       "    <tr>\n",
       "      <th>MAE</th>\n",
       "      <td>3.515261e+13</td>\n",
       "      <td>39.515109</td>\n",
       "    </tr>\n",
       "    <tr>\n",
       "      <th>RMSE</th>\n",
       "      <td>7.219059e+13</td>\n",
       "      <td>66.264899</td>\n",
       "    </tr>\n",
       "  </tbody>\n",
       "</table>\n",
       "</div>"
      ],
      "text/plain": [
       "      Normal-Method  GEO-Featuring\n",
       "MSE    5.211482e+27    4391.036895\n",
       "MAE    3.515261e+13      39.515109\n",
       "RMSE   7.219059e+13      66.264899"
      ]
     },
     "execution_count": 153,
     "metadata": {},
     "output_type": "execute_result"
    }
   ],
   "source": [
    "mse = [mse_1,mse_2]\n",
    "mae = [mae_1,mae_2]\n",
    "rmse = [rmse_1,rmse_2]\n",
    "\n",
    "pd.DataFrame(data=[mse,mae,rmse],columns=[\"Normal-Method\",\"GEO-Featuring\"],index =[\"MSE\",\"MAE\",\"RMSE\"])\n"
   ]
  },
  {
   "cell_type": "code",
   "execution_count": null,
   "id": "0095d17e",
   "metadata": {},
   "outputs": [],
   "source": []
  }
 ],
 "metadata": {
  "kernelspec": {
   "display_name": "Python 3 (ipykernel)",
   "language": "python",
   "name": "python3"
  },
  "language_info": {
   "codemirror_mode": {
    "name": "ipython",
    "version": 3
   },
   "file_extension": ".py",
   "mimetype": "text/x-python",
   "name": "python",
   "nbconvert_exporter": "python",
   "pygments_lexer": "ipython3",
   "version": "3.9.12"
  }
 },
 "nbformat": 4,
 "nbformat_minor": 5
}
